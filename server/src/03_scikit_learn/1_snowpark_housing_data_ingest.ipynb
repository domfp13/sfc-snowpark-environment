{
 "cells": [
  {
   "attachments": {},
   "cell_type": "markdown",
   "id": "cd188e46",
   "metadata": {},
   "source": [
    "# NOTEBOOK 1: INGEST HOUSING DATA INTO SNOWFLAKE"
   ]
  },
  {
   "attachments": {},
   "cell_type": "markdown",
   "id": "62451bca",
   "metadata": {},
   "source": [
    "#### Download the housing dataset"
   ]
  },
  {
   "cell_type": "code",
   "execution_count": null,
   "id": "132cb7aa",
   "metadata": {},
   "outputs": [],
   "source": [
    "# We will load some data from internet which we will then load into Snowflake \n",
    "import os\n",
    "import tarfile\n",
    "import urllib.request\n",
    "\n",
    "DOWNLOAD_ROOT = \"https://raw.githubusercontent.com/ageron/handson-ml2/master/\"\n",
    "HOUSING_PATH = os.path.join(\"datasets\", \"housing\")\n",
    "HOUSING_URL = DOWNLOAD_ROOT + \"datasets/housing/housing.tgz\"\n",
    "\n",
    "def fetch_housing_data(housing_url=HOUSING_URL, housing_path=HOUSING_PATH):\n",
    "    if not os.path.isdir(housing_path):\n",
    "        os.makedirs(housing_path)\n",
    "    tgz_path = os.path.join(housing_path, \"housing.tgz\")\n",
    "    urllib.request.urlretrieve(housing_url, tgz_path)\n",
    "    housing_tgz = tarfile.open(tgz_path)\n",
    "    housing_tgz.extractall(path=housing_path)\n",
    "    housing_tgz.close()\n",
    "\n",
    "fetch_housing_data()"
   ]
  },
  {
   "cell_type": "code",
   "execution_count": null,
   "id": "461d1e78",
   "metadata": {},
   "outputs": [],
   "source": [
    "# Import Snowpark libraries \n",
    "from snowflake.snowpark.session import Session\n",
    "from snowflake.snowpark import functions as F\n",
    "from snowflake.snowpark.functions import udf\n",
    "from snowflake.snowpark.types import *\n",
    "\n",
    "#Snowflake connection info is saved in config.py\n",
    "# Please change config.py to point to your Snowflake instance before running this step\n",
    "# Use user which has account admin role or equivalent to create DB, Schema, warehouse etc.\n",
    "\n",
    "from config import snowflake_conn_prop\n",
    "\n",
    "import pandas as pd \n",
    "\n",
    "def load_housing_data ( housing_path = HOUSING_PATH ): \n",
    "    csv_path = os.path.join ( housing_path , \"housing.csv\" ) \n",
    "    return pd.read_csv ( csv_path ) \n",
    "\n",
    "housing = load_housing_data()\n",
    "housing.head()"
   ]
  },
  {
   "attachments": {},
   "cell_type": "markdown",
   "id": "27447aaa",
   "metadata": {},
   "source": [
    "Let's configure our Snowpark Session and initialize the database, warehouse, and schema that we will use for the remainder of the quickstart."
   ]
  },
  {
   "cell_type": "code",
   "execution_count": null,
   "id": "1674a4fe",
   "metadata": {},
   "outputs": [],
   "source": [
    "import sys\n",
    "sys.path.append('..')\n",
    "from utilities.creds import Credentials\n",
    "from snowflake.snowpark import version\n",
    "print(version.VERSION)\n",
    "\n",
    "session = Session.builder.configs(Credentials().__dict__).create()\n",
    "\n",
    "session.use_role(\"LEARNINGSNOWPARKROLE\")\n",
    "session.use_database(\"SCIKIT_LEARN\")\n",
    "session.use_schema(\"SCIKIT_LEARN.PUBLIC\")\n",
    "session.use_warehouse(\"LEARNINGSNOWPARKVW\")\n",
    "\n",
    "print(session.sql('select current_warehouse(), current_database(), current_schema()').collect())"
   ]
  },
  {
   "attachments": {},
   "cell_type": "markdown",
   "id": "286eb867",
   "metadata": {},
   "source": [
    "### Write the data into a Snowflake table named `HOUSING_DATA`\n",
    "\n",
    "Use the **write_pandas** method to create a table with the data in the Pandas dataframe, housing. The table will be automatically created, if it exists it will be dropped and recreated (auto_create_table and overwrite controls this)"
   ]
  },
  {
   "cell_type": "code",
   "execution_count": null,
   "id": "d974b7ac",
   "metadata": {},
   "outputs": [],
   "source": [
    "snowpark_df = session.write_pandas(housing, \"HOUSING_DATA\", quote_identifiers=False, auto_create_table=True, overwrite=True)"
   ]
  },
  {
   "attachments": {},
   "cell_type": "markdown",
   "id": "18fa8967",
   "metadata": {},
   "source": [
    "Check that we have data in the table"
   ]
  },
  {
   "cell_type": "code",
   "execution_count": null,
   "id": "0426367e",
   "metadata": {},
   "outputs": [],
   "source": [
    "snowpark_df.show()"
   ]
  },
  {
   "cell_type": "code",
   "execution_count": null,
   "id": "862d9ac2",
   "metadata": {},
   "outputs": [],
   "source": [
    "session.close()"
   ]
  }
 ],
 "metadata": {
  "kernelspec": {
   "display_name": "snowpark-de-ml",
   "language": "python",
   "name": "python3"
  },
  "language_info": {
   "codemirror_mode": {
    "name": "ipython",
    "version": 3
   },
   "file_extension": ".py",
   "mimetype": "text/x-python",
   "name": "python",
   "nbconvert_exporter": "python",
   "pygments_lexer": "ipython3",
   "version": "3.8.5"
  },
  "vscode": {
   "interpreter": {
    "hash": "daa716d463a28d756b7a73b3824e39bf40e685223bcb0892720834bc39264f4a"
   }
  }
 },
 "nbformat": 4,
 "nbformat_minor": 5
}
